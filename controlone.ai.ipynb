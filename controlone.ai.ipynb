{
 "cells": [
  {
   "cell_type": "markdown",
   "id": "d2769aa7",
   "metadata": {},
   "source": [
    "# Task 1-Face detection of a person using haar cascade and openCV"
   ]
  },
  {
   "cell_type": "code",
   "execution_count": 1,
   "id": "2a014dda",
   "metadata": {},
   "outputs": [],
   "source": [
    "import numpy as np\n",
    "import cv2"
   ]
  },
  {
   "cell_type": "code",
   "execution_count": 2,
   "id": "e603096b",
   "metadata": {},
   "outputs": [],
   "source": [
    "faceCascade = cv2.CascadeClassifier('haarcascade_frontalface_default.xml')\n",
    "\n",
    "cap = cv2.VideoCapture(0)\n",
    "cap.set(3, 640)  # set Width\n",
    "cap.set(4, 480)  # set Height\n",
    "\n",
    "while True:\n",
    "    ret, img = cap.read()\n",
    "\n",
    "    gray = cv2.cvtColor(img, cv2.COLOR_BGR2GRAY)\n",
    "    faces = faceCascade.detectMultiScale(\n",
    "        gray,\n",
    "\n",
    "        scaleFactor=1.2,\n",
    "        minNeighbors=5\n",
    "        ,\n",
    "        minSize=(20, 20)\n",
    "    )\n",
    "\n",
    "    for (x, y, w, h) in faces:\n",
    "        cv2.rectangle(img, (x, y), (x + w, y + h), (255, 0, 0), 2)\n",
    "        roi_gray = gray[y:y + h, x:x + w]\n",
    "        roi_color = img[y:y + h, x:x + w]\n",
    "\n",
    "    cv2.imshow('video', img)\n",
    "\n",
    "    k = cv2.waitKey(30) & 0xff\n",
    "    if k == 27:  # press 'ESC' to quit\n",
    "        break\n",
    "\n",
    "cap.release()\n",
    "cv2.destroyAllWindows()"
   ]
  },
  {
   "cell_type": "markdown",
   "id": "f093b927",
   "metadata": {},
   "source": [
    "# Task 2 -Geometrical shapes Using open-CV"
   ]
  },
  {
   "cell_type": "code",
   "execution_count": 3,
   "id": "1c65efb9",
   "metadata": {},
   "outputs": [],
   "source": [
    "import cv2\n",
    "import numpy as np\n",
    "\n",
    "# Create a blank image (black background)\n",
    "image = np.zeros((400, 400, 3), dtype=np.uint8)\n",
    "\n",
    "# Draw a line (in this case, a red line)\n",
    "cv2.line(image, (50, 50), (350, 50), (0, 0, 255), 2)  # BGR color format (red)\n",
    "# Parameters: image, starting point, ending point, color, thickness\n",
    "\n",
    "# Draw a rectangle (in this case, a green rectangle)\n",
    "cv2.rectangle(image, (100, 100), (300, 300), (0, 255, 0), 2)  # BGR color format (green)\n",
    "# Parameters: image, top-left corner, bottom-right corner, color, thickness\n",
    "\n",
    "# Draw an ellipse (in this case, a blue ellipse)\n",
    "cv2.ellipse(image, (200, 200), (100, 50), 0, 0, 360, (255, 0, 0), 2)  # BGR color format (blue)\n",
    "# Parameters: image, center, axes lengths (major, minor), angle, start angle, end angle, color, thickness\n",
    "\n",
    "# Draw a circle (in this case, a yellow circle)\n",
    "cv2.circle(image, (200, 200), 50, (0, 255, 255), 2)  # BGR color format (yellow)\n",
    "# Parameters: image, center, radius, color, thickness\n",
    "\n",
    "# Display the image with the drawn shapes\n",
    "cv2.imshow('Geometric Shapes', image)\n",
    "\n",
    "# Wait for a key press and then close the window\n",
    "cv2.waitKey(0)\n",
    "cv2.destroyAllWindows()\n"
   ]
  },
  {
   "cell_type": "markdown",
   "id": "72fc6f2e",
   "metadata": {},
   "source": [
    "# Task 3- Python class"
   ]
  },
  {
   "cell_type": "code",
   "execution_count": 4,
   "id": "13bb661a",
   "metadata": {},
   "outputs": [],
   "source": [
    "import os\n",
    "import csv"
   ]
  },
  {
   "cell_type": "code",
   "execution_count": 5,
   "id": "baeaee8e",
   "metadata": {},
   "outputs": [],
   "source": [
    "class WarehouseParcelDetail:\n",
    "    VALID_CATEGORIES = [\"filters\", \"automobil_parts\", \"cargo_containeer\"]\n",
    "\n",
    "    def __init__(self, parcel_number, parcel_weight, parcel_category):\n",
    "        if not self._validate_parcel_number(parcel_number):\n",
    "            raise ValueError(\"Parcel number must be a 5-digit number.\")\n",
    "        if parcel_category.lower() not in self.VALID_CATEGORIES:\n",
    "            raise ValueError(\"Parcel category must be one of: filters, automobil_parts, cargo_containeer\")\n",
    "\n",
    "        self.parcel_number = parcel_number\n",
    "        self.parcel_weight = parcel_weight\n",
    "        self.parcel_category = parcel_category.lower()\n",
    "\n",
    "    def _validate_parcel_number(self, parcel_number):\n",
    "        return len(str(parcel_number)) == 5 and str(parcel_number).isdigit()\n",
    "\n",
    "    def save_parcel_details(self):\n",
    "        if not os.path.exists('parcel_details.csv'):\n",
    "            with open('parcel_details.csv', 'w', newline='') as csvfile:\n",
    "                writer = csv.writer(csvfile)\n",
    "                writer.writerow([\"Parcel Number\", \"Parcel Weight\", \"Parcel Category\"])\n",
    "\n",
    "        with open('parcel_details.csv', 'a', newline='') as csvfile:\n",
    "            writer = csv.writer(csvfile)\n",
    "            writer.writerow([self.parcel_number, self.parcel_weight, self.parcel_category])\n",
    "\n",
    "    @staticmethod\n",
    "    def display_parcel_details_by_category(category):\n",
    "        if not os.path.exists('parcel_details.csv'):\n",
    "            print(\"CSV file 'parcel_details.csv' does not exist.\")\n",
    "            return []\n",
    "\n",
    "        parcel_numbers = []\n",
    "        with open('parcel_details.csv', 'r') as csvfile:\n",
    "            reader = csv.reader(csvfile)\n",
    "            next(reader)  \n",
    "            for row in reader:\n",
    "                if row[2] == category:\n",
    "                    parcel_numbers.append(row[0])\n",
    "\n",
    "        return parcel_numbers"
   ]
  },
  {
   "cell_type": "code",
   "execution_count": 6,
   "id": "d8208274",
   "metadata": {},
   "outputs": [
    {
     "name": "stdout",
     "output_type": "stream",
     "text": [
      "Input No. of Records : 3\n",
      "Enter Parcel Number : 12345\n",
      "Enter Parcel Weight : 44\n",
      "___________Categories_________\n",
      "'1':'filters'\n",
      "'2':'automobil_parts'\n",
      "'3':'cargo_containeer'\n",
      "Enter Parcel Category Number : 1\n",
      "Enter Parcel Number : 12346\n",
      "Enter Parcel Weight : 33\n",
      "___________Categories_________\n",
      "'1':'filters'\n",
      "'2':'automobil_parts'\n",
      "'3':'cargo_containeer'\n",
      "Enter Parcel Category Number : 2\n",
      "Enter Parcel Number : 12347\n",
      "Enter Parcel Weight : 44\n",
      "___________Categories_________\n",
      "'1':'filters'\n",
      "'2':'automobil_parts'\n",
      "'3':'cargo_containeer'\n",
      "Enter Parcel Category Number : 3\n"
     ]
    }
   ],
   "source": [
    "categories = {\"1\":\"filters\",\"2\":\"automobil_parts\",\"3\":\"cargo_containeer\"}\n",
    "n = int(input(\"Input No. of Records : \"))\n",
    "for i in range(n):\n",
    "    parcel_number = int(input(\"Enter Parcel Number : \"))\n",
    "    parcel_weight = int(input(\"Enter Parcel Weight : \"))\n",
    "    print(\"___________Categories_________\")\n",
    "    print(\"'1':'filters'\\n'2':'automobil_parts'\\n'3':'cargo_containeer'\")\n",
    "    cargo_container = input(\"Enter Parcel Category Number : \")\n",
    "\n",
    "    parcel = WarehouseParcelDetail(parcel_number,parcel_weight,categories[cargo_container])\n",
    "\n",
    "    parcel.save_parcel_details()"
   ]
  },
  {
   "cell_type": "code",
   "execution_count": 23,
   "id": "4b24f658",
   "metadata": {},
   "outputs": [
    {
     "name": "stdout",
     "output_type": "stream",
     "text": [
      "['39733']\n"
     ]
    }
   ],
   "source": [
    "print(WarehouseParcelDetail.display_parcel_details_by_category(\"filters\"))"
   ]
  },
  {
   "cell_type": "code",
   "execution_count": null,
   "id": "4c3b1f23",
   "metadata": {},
   "outputs": [],
   "source": []
  }
 ],
 "metadata": {
  "kernelspec": {
   "display_name": "Python 3 (ipykernel)",
   "language": "python",
   "name": "python3"
  },
  "language_info": {
   "codemirror_mode": {
    "name": "ipython",
    "version": 3
   },
   "file_extension": ".py",
   "mimetype": "text/x-python",
   "name": "python",
   "nbconvert_exporter": "python",
   "pygments_lexer": "ipython3",
   "version": "3.10.9"
  }
 },
 "nbformat": 4,
 "nbformat_minor": 5
}
